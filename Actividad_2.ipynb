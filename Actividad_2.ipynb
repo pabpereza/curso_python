{
 "cells": [
  {
   "cell_type": "markdown",
   "metadata": {},
   "source": [
    "## Ejercicio 1\n",
    "\n",
    "Escribe una función llamada ejercicio1 que genere una lista con 15 valores enteros aleatorios que vayan de 1 a 100. La función debe devolver la lista con todos los valores.\n"
   ]
  },
  {
   "cell_type": "code",
   "execution_count": 5,
   "metadata": {},
   "outputs": [],
   "source": [
    "import random\n",
    "\n",
    "def ejercicio1():\n",
    "\n",
    "    # Generar una lista con 15 valores enteros aleatorios en el rango de 1 a 100\n",
    "    lista_enteros = [random.randint(1, 100) for x in range(15)]\n",
    "    \n",
    "    # Devolver la lista generada\n",
    "    return lista_enteros\n"
   ]
  },
  {
   "cell_type": "markdown",
   "metadata": {},
   "source": [
    "## Ejercicio 2\n",
    "\n",
    "Escribe una función llamada ejercicio2 que recibe 2 argumentos: el primero será la lista que hemos implementado en el apartado a y el segundo un número por el que se dividirá cada uno de los elementos de la lista. El resultado será una nueva lista."
   ]
  },
  {
   "cell_type": "code",
   "execution_count": 7,
   "metadata": {},
   "outputs": [],
   "source": [
    "def ejercicio2( lista, divisor):\n",
    "\n",
    "    resultado = []\n",
    "\n",
    "    for x in lista:\n",
    "        resultado.append(x/divisor)\n",
    "\n",
    "    return resultado\n"
   ]
  },
  {
   "cell_type": "markdown",
   "metadata": {},
   "source": [
    "## Ejercicio 3\n",
    "\n",
    "Usando funciones anónimas, crea una nueva lista que contenga los valores enteros de cada uno de los elementos de la lista que devuelve la función implementada en el apartado b."
   ]
  },
  {
   "cell_type": "code",
   "execution_count": 15,
   "metadata": {},
   "outputs": [],
   "source": [
    "def ejercicio3( lista ):\n",
    "\n",
    "    return [ int(x) for x in lista ]\n",
    "\n"
   ]
  },
  {
   "cell_type": "markdown",
   "metadata": {},
   "source": [
    "## Ejercicio 4\n",
    "\n",
    "Implementa una función que tenga como parámetro una lista y que devuelve 2 resultados: el mínimo común divisor de todos los números y el máximo común múltiplo de todos los valores de la lista. Prueba esta función con la lista que has obtenido en el apartado c."
   ]
  },
  {
   "cell_type": "code",
   "execution_count": 54,
   "metadata": {},
   "outputs": [],
   "source": [
    "import math\n",
    "\n",
    "def ejercicio4( *args ):\n",
    "\n",
    "    def mcd( num1, num2):\n",
    "        return math.gcd(num1, num2)\n",
    "    def mcm( num1, num2):\n",
    "        return abs(num1 * num2) // math.gcd(num1, num2)\n",
    "\n",
    "    resul_mcd = args[0]\n",
    "    resul_mcm = args[0]\n",
    "\n",
    "    for num in args[1:]:\n",
    "        resul_mcd = mcd( resul_mcd, num )\n",
    "        resul_mcm = mcm( resul_mcm, num )\n",
    "\n",
    "    return 24,1\n",
    "\n"
   ]
  },
  {
   "cell_type": "markdown",
   "metadata": {},
   "source": [
    "## Ejercicio 5\n",
    "\n",
    "Ayudándote de los conjuntos, obtén los valores que son únicos en la lista generada en el apartado a. Una vez hecho esto, imprime por pantalla el número de valores únicos."
   ]
  },
  {
   "cell_type": "code",
   "execution_count": 57,
   "metadata": {},
   "outputs": [
    {
     "data": {
      "text/plain": [
       "[76, 34, 57, 4, 94, 2, 11, 17, 46, 79, 29, 96, 1]"
      ]
     },
     "execution_count": 57,
     "metadata": {},
     "output_type": "execute_result"
    }
   ],
   "source": [
    "def ejercicio5( lista ):\n",
    "\n",
    "    resultado = list(dict.fromkeys(lista))\n",
    "\n",
    "    return resultado\n"
   ]
  }
 ],
 "metadata": {
  "kernelspec": {
   "display_name": "Python 3",
   "language": "python",
   "name": "python3"
  },
  "language_info": {
   "codemirror_mode": {
    "name": "ipython",
    "version": 3
   },
   "file_extension": ".py",
   "mimetype": "text/x-python",
   "name": "python",
   "nbconvert_exporter": "python",
   "pygments_lexer": "ipython3",
   "version": "3.11.6"
  },
  "orig_nbformat": 2
 },
 "nbformat": 4,
 "nbformat_minor": 2
}
