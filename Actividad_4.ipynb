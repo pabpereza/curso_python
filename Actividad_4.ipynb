{
 "cells": [
  {
   "cell_type": "markdown",
   "metadata": {},
   "source": [
    "## Ejercicio 1\n",
    "\n",
    "Crea una función llamada ejercicio1, que recibe la ruta donde se encuentra un dataset y devuelve una DataFrame con los datos que hay en el dataset. Para comprobar esta función utiliza el dataset `titanic.csv` que se incluye en esta actividad."
   ]
  },
  {
   "cell_type": "code",
   "execution_count": 1,
   "metadata": {},
   "outputs": [],
   "source": [
    "import pandas as pd\n",
    "\n",
    "def ejercicio1(ruta):\n",
    "    try:\n",
    "        df = pd.read_csv(ruta)\n",
    "        return df\n",
    "    except Exception as e:\n",
    "        print(\"Error al cargar el dataset: {e}\")\n",
    "        return None"
   ]
  },
  {
   "cell_type": "markdown",
   "metadata": {},
   "source": [
    "## Ejercicio 2\n",
    "\n",
    "Crea otra función llamada ejercicio2. Esta función recibe un único argumento que es un dataframe. En concreto debe recibir el dataframe que se ha obtenido de leer el dataset `titanic.csv`. Esta función devolverá otro dataset que incluya únicamente a los pasajeros menores de 35 años y que viajaban en 3ª clase."
   ]
  },
  {
   "cell_type": "code",
   "execution_count": 2,
   "metadata": {},
   "outputs": [],
   "source": [
    "from pexpect import ExceptionPexpect\n",
    "\n",
    "\n",
    "def ejercicio2(df):\n",
    "\n",
    "    try:\n",
    "        resultado = df[(df['Age'] < 35 ) & ( df['Pclass'] == 3) ].copy()\n",
    "        return resultado\n",
    "    except Exception as e:\n",
    "        print(\"Error en la ejecución: {e}\")\n",
    "        return None"
   ]
  },
  {
   "cell_type": "markdown",
   "metadata": {},
   "source": [
    "## Ejercicio 3\n",
    "\n",
    "Crea una función llamada ejercicio3, que recibiendo como argumento el dataframe de salida del ejercicio 2, calcule el porcentaje de pasajeros menores de 35 años de 3ª clase que sobrevivieron."
   ]
  },
  {
   "cell_type": "code",
   "execution_count": 46,
   "metadata": {},
   "outputs": [
    {
     "name": "stdout",
     "output_type": "stream",
     "text": [
      "27.27272727272727\n"
     ]
    }
   ],
   "source": [
    "def ejercicio3(df):\n",
    "\n",
    "    try:\n",
    "\n",
    "        m35 = ejercicio2(df)\n",
    "        total = len(m35)\n",
    "        supervivientes = len( m35[ m35['Survived'] == 1 ])\n",
    "\n",
    "        return supervivientes / total * 100\n",
    "    except Exception as e:\n",
    "        print(\"Errore en la ejecución ejercicio3: {e}\")\n",
    "        return None\n",
    "    \n"
   ]
  },
  {
   "cell_type": "markdown",
   "metadata": {},
   "source": [
    "## Ejercicio 4\n",
    "\n",
    "Implementa una función llamada ejercicio4 que recibiendo el dataframe con los datos del Titanic, devuelva en una tupla el porcentaje de hombres y mujeres que viajaban en el Titanic, redondeados al segundo decimal."
   ]
  },
  {
   "cell_type": "code",
   "execution_count": 31,
   "metadata": {},
   "outputs": [
    {
     "data": {
      "text/plain": [
       "(64.75869809203144, 35.24130190796858)"
      ]
     },
     "execution_count": 31,
     "metadata": {},
     "output_type": "execute_result"
    }
   ],
   "source": [
    "def ejercicio4(df):\n",
    "\n",
    "    try:\n",
    "        total = len(df)\n",
    "\n",
    "        hombres = len( df[df['Sex'] == 'male'] ) / total * 100\n",
    "        mujeres = len( df[df['Sex'] == 'female'] ) / total * 100\n",
    "\n",
    "        resultado = ( hombres , mujeres )\n",
    "        return resultado\n",
    "\n",
    "    except Exception as e:\n",
    "        print(\"Error en el ejecicio4: {e}\")\n"
   ]
  },
  {
   "cell_type": "markdown",
   "metadata": {},
   "source": [
    "## Ejercicio 5\n",
    "\n",
    "\n",
    "Implementa una función llamada ejercicio5 que recibiendo el dataframe con los datos del Titanic, devuelva en una lista el número de pasajeros que viajaban en 1ª, 2ª y 3ª clase."
   ]
  },
  {
   "cell_type": "code",
   "execution_count": 34,
   "metadata": {},
   "outputs": [
    {
     "data": {
      "text/plain": [
       "[216, 184, 491]"
      ]
     },
     "execution_count": 34,
     "metadata": {},
     "output_type": "execute_result"
    }
   ],
   "source": [
    "def ejercicio5(df):\n",
    "\n",
    "    try:\n",
    "        total_1 = len( df[df['Pclass'] == 1] )\n",
    "        total_2 = len( df[df['Pclass'] == 2] )\n",
    "        total_3 = len( df[df['Pclass'] == 3] )\n",
    "\n",
    "        return [ total_1, total_2, total_3]\n",
    "\n",
    "    except Exception as e:\n",
    "        print(\"Error en el ejercicio 5: {e}\")\n",
    "\n"
   ]
  }
 ],
 "metadata": {
  "kernelspec": {
   "display_name": "Python 3",
   "language": "python",
   "name": "python3"
  },
  "language_info": {
   "codemirror_mode": {
    "name": "ipython",
    "version": 3
   },
   "file_extension": ".py",
   "mimetype": "text/x-python",
   "name": "python",
   "nbconvert_exporter": "python",
   "pygments_lexer": "ipython3",
   "version": "3.11.5"
  }
 },
 "nbformat": 4,
 "nbformat_minor": 2
}
